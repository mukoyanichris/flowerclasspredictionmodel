{
 "cells": [
  {
   "cell_type": "code",
   "execution_count": 4,
   "id": "5bbd60b6-a5f8-46d3-a513-095e023456ab",
   "metadata": {},
   "outputs": [
    {
     "ename": "SyntaxError",
     "evalue": "invalid syntax (1957058985.py, line 4)",
     "output_type": "error",
     "traceback": [
      "\u001b[0;36m  Cell \u001b[0;32mIn[4], line 4\u001b[0;36m\u001b[0m\n\u001b[0;31m    iimport tensorflow_estimator as tf_estimator\u001b[0m\n\u001b[0m            ^\u001b[0m\n\u001b[0;31mSyntaxError\u001b[0m\u001b[0;31m:\u001b[0m invalid syntax\n"
     ]
    }
   ],
   "source": [
    "import tensorflow as tf\n",
    "import pandas as pd\n",
    "from sklearn.model_selection import train_test_split\n",
    "iimport tensorflow_estimator as tf_estimator\n",
    "\n",
    "\n",
    "\n",
    "\n",
    "# Load the Iris dataset\n",
    "url = \"/home/chrisdev/Downloads/IRIS.csv\"\n",
    "columns = ['sepal_length', 'sepal_width', 'petal_length', 'petal_width', 'species']\n",
    "\n",
    "# Load the dataset into a pandas DataFrame\n",
    "df = pd.read_csv(url, names=columns)\n",
    "\n",
    "# Map species to numeric values\n",
    "df['species'] = df['species'].map({\n",
    "    'Iris-setosa': 0,\n",
    "    'Iris-versicolor': 1,\n",
    "    'Iris-virginica': 2,\n",
    "})\n",
    "\n",
    "# Separate features and labels\n",
    "X = df[['sepal_length', 'sepal_width', 'petal_length', 'petal_width']]\n",
    "y = df['species']\n",
    "\n",
    "# Split the data into training and testing sets\n",
    "X_train, X_test, y_train, y_test = train_test_split(X, y, test_size=0.2, random_state=42)\n",
    "\n",
    "# Convert the data into TensorFlow's input format\n",
    "def input_fn(features, labels, training=True, batch_size=32):\n",
    "    dataset = tf.data.Dataset.from_tensor_slices((dict(features), labels))\n",
    "    if training:\n",
    "        dataset = dataset.shuffle(1000).repeat()\n",
    "    return dataset.batch(batch_size)\n",
    "\n",
    "# Create feature columns\n",
    "feature_columns = []\n",
    "for column in X.columns:\n",
    "    feature_columns.append(tf.feature_column.numeric_column(key=column))\n",
    "\n",
    "# Build the DNNClassifier\n",
    "classifier = tf.estimator.DNNClassifier(\n",
    "    feature_columns=feature_columns,\n",
    "    hidden_units=[30, 10],  # Two hidden layers with 30 and 10 units respectively\n",
    "    n_classes=3             # 3 classes (setosa, versicolor, virginica)\n",
    ")\n",
    "\n",
    "# Train the model\n",
    "classifier.train(\n",
    "    input_fn=lambda: input_fn(X_train, y_train, training=True),\n",
    "    steps=5000\n",
    ")\n",
    "\n",
    "# Evaluate the model\n",
    "eval_result = classifier.evaluate(\n",
    "    input_fn=lambda: input_fn(X_test, y_test, training=False)\n",
    ")\n",
    "\n",
    "print(f\"Test set accuracy: {eval_result['accuracy']:.4f}\")\n"
   ]
  },
  {
   "cell_type": "code",
   "execution_count": null,
   "id": "5325b0ca-5534-404f-b0fa-93780d67fe74",
   "metadata": {},
   "outputs": [],
   "source": []
  }
 ],
 "metadata": {
  "kernelspec": {
   "display_name": "Python (myenv)",
   "language": "python",
   "name": "myenv"
  },
  "language_info": {
   "codemirror_mode": {
    "name": "ipython",
    "version": 3
   },
   "file_extension": ".py",
   "mimetype": "text/x-python",
   "name": "python",
   "nbconvert_exporter": "python",
   "pygments_lexer": "ipython3",
   "version": "3.12.6"
  }
 },
 "nbformat": 4,
 "nbformat_minor": 5
}
